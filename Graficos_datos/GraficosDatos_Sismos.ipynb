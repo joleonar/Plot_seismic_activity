{
 "cells": [
  {
   "cell_type": "markdown",
   "metadata": {},
   "source": [
    "# Gráficos base de datos de sismos"
   ]
  },
  {
   "cell_type": "code",
   "execution_count": 13,
   "metadata": {},
   "outputs": [],
   "source": [
    "import numpy as np\n",
    "import pandas as pd\n",
    "import matplotlib.pyplot as plt\n",
    "        \n",
    "from datetime import datetime"
   ]
  },
  {
   "cell_type": "code",
   "execution_count": 14,
   "metadata": {},
   "outputs": [
    {
     "data": {
      "text/html": [
       "<div>\n",
       "<style scoped>\n",
       "    .dataframe tbody tr th:only-of-type {\n",
       "        vertical-align: middle;\n",
       "    }\n",
       "\n",
       "    .dataframe tbody tr th {\n",
       "        vertical-align: top;\n",
       "    }\n",
       "\n",
       "    .dataframe thead th {\n",
       "        text-align: right;\n",
       "    }\n",
       "</style>\n",
       "<table border=\"1\" class=\"dataframe\">\n",
       "  <thead>\n",
       "    <tr style=\"text-align: right;\">\n",
       "      <th></th>\n",
       "      <th>year</th>\n",
       "      <th>month</th>\n",
       "      <th>day</th>\n",
       "      <th>hour</th>\n",
       "      <th>min</th>\n",
       "      <th>sec</th>\n",
       "      <th>lat</th>\n",
       "      <th>lon</th>\n",
       "      <th>depth</th>\n",
       "      <th>mag</th>\n",
       "    </tr>\n",
       "  </thead>\n",
       "  <tbody>\n",
       "    <tr>\n",
       "      <th>0</th>\n",
       "      <td>2019</td>\n",
       "      <td>1</td>\n",
       "      <td>1</td>\n",
       "      <td>3</td>\n",
       "      <td>44</td>\n",
       "      <td>51.4</td>\n",
       "      <td>10.252</td>\n",
       "      <td>-68.170</td>\n",
       "      <td>12.9</td>\n",
       "      <td>2.0</td>\n",
       "    </tr>\n",
       "    <tr>\n",
       "      <th>1</th>\n",
       "      <td>2019</td>\n",
       "      <td>1</td>\n",
       "      <td>1</td>\n",
       "      <td>3</td>\n",
       "      <td>50</td>\n",
       "      <td>20.2</td>\n",
       "      <td>10.243</td>\n",
       "      <td>-68.146</td>\n",
       "      <td>8.0</td>\n",
       "      <td>2.3</td>\n",
       "    </tr>\n",
       "    <tr>\n",
       "      <th>2</th>\n",
       "      <td>2019</td>\n",
       "      <td>1</td>\n",
       "      <td>1</td>\n",
       "      <td>4</td>\n",
       "      <td>20</td>\n",
       "      <td>28.6</td>\n",
       "      <td>10.220</td>\n",
       "      <td>-68.104</td>\n",
       "      <td>2.4</td>\n",
       "      <td>2.0</td>\n",
       "    </tr>\n",
       "    <tr>\n",
       "      <th>3</th>\n",
       "      <td>2019</td>\n",
       "      <td>1</td>\n",
       "      <td>1</td>\n",
       "      <td>6</td>\n",
       "      <td>42</td>\n",
       "      <td>24.7</td>\n",
       "      <td>10.199</td>\n",
       "      <td>-68.119</td>\n",
       "      <td>17.3</td>\n",
       "      <td>3.0</td>\n",
       "    </tr>\n",
       "    <tr>\n",
       "      <th>4</th>\n",
       "      <td>2019</td>\n",
       "      <td>1</td>\n",
       "      <td>1</td>\n",
       "      <td>7</td>\n",
       "      <td>3</td>\n",
       "      <td>50.1</td>\n",
       "      <td>11.186</td>\n",
       "      <td>-69.751</td>\n",
       "      <td>15.5</td>\n",
       "      <td>2.9</td>\n",
       "    </tr>\n",
       "  </tbody>\n",
       "</table>\n",
       "</div>"
      ],
      "text/plain": [
       "   year  month  day  hour  min   sec     lat     lon  depth  mag\n",
       "0  2019      1    1     3   44  51.4  10.252 -68.170   12.9  2.0\n",
       "1  2019      1    1     3   50  20.2  10.243 -68.146    8.0  2.3\n",
       "2  2019      1    1     4   20  28.6  10.220 -68.104    2.4  2.0\n",
       "3  2019      1    1     6   42  24.7  10.199 -68.119   17.3  3.0\n",
       "4  2019      1    1     7    3  50.1  11.186 -69.751   15.5  2.9"
      ]
     },
     "execution_count": 14,
     "metadata": {},
     "output_type": "execute_result"
    }
   ],
   "source": [
    "datos=pd.read_csv('datos.txt', sep='\\t')\n",
    "datos.head()"
   ]
  },
  {
   "cell_type": "markdown",
   "metadata": {},
   "source": [
    "Crea una columna con tiempo origen del sismo en formato **yyyy-mm-dd HH:MM:SS.sss**"
   ]
  },
  {
   "cell_type": "code",
   "execution_count": 15,
   "metadata": {},
   "outputs": [],
   "source": [
    "# Crea la columna con los segundos decimales en microsegundos\n",
    "datos['microsec']=(1e5*(datos.sec-datos.sec.astype(int))).astype(int) \n",
    "# Convierte los segundos a entero\n",
    "datos['sec']=datos.sec.astype(int)\n"
   ]
  },
  {
   "cell_type": "code",
   "execution_count": 16,
   "metadata": {},
   "outputs": [
    {
     "data": {
      "text/html": [
       "<div>\n",
       "<style scoped>\n",
       "    .dataframe tbody tr th:only-of-type {\n",
       "        vertical-align: middle;\n",
       "    }\n",
       "\n",
       "    .dataframe tbody tr th {\n",
       "        vertical-align: top;\n",
       "    }\n",
       "\n",
       "    .dataframe thead th {\n",
       "        text-align: right;\n",
       "    }\n",
       "</style>\n",
       "<table border=\"1\" class=\"dataframe\">\n",
       "  <thead>\n",
       "    <tr style=\"text-align: right;\">\n",
       "      <th></th>\n",
       "      <th>Tiempo Origen</th>\n",
       "      <th>Latitud</th>\n",
       "      <th>Longitud</th>\n",
       "      <th>Profundidad</th>\n",
       "      <th>Magnitud</th>\n",
       "    </tr>\n",
       "  </thead>\n",
       "  <tbody>\n",
       "    <tr>\n",
       "      <th>0</th>\n",
       "      <td>2019-01-01 03:44:51.039</td>\n",
       "      <td>10.252</td>\n",
       "      <td>-68.170</td>\n",
       "      <td>12.9</td>\n",
       "      <td>2.0</td>\n",
       "    </tr>\n",
       "    <tr>\n",
       "      <th>1</th>\n",
       "      <td>2019-01-01 03:50:20.019</td>\n",
       "      <td>10.243</td>\n",
       "      <td>-68.146</td>\n",
       "      <td>8.0</td>\n",
       "      <td>2.3</td>\n",
       "    </tr>\n",
       "    <tr>\n",
       "      <th>2</th>\n",
       "      <td>2019-01-01 04:20:28.060</td>\n",
       "      <td>10.220</td>\n",
       "      <td>-68.104</td>\n",
       "      <td>2.4</td>\n",
       "      <td>2.0</td>\n",
       "    </tr>\n",
       "    <tr>\n",
       "      <th>3</th>\n",
       "      <td>2019-01-01 06:42:24.069</td>\n",
       "      <td>10.199</td>\n",
       "      <td>-68.119</td>\n",
       "      <td>17.3</td>\n",
       "      <td>3.0</td>\n",
       "    </tr>\n",
       "    <tr>\n",
       "      <th>4</th>\n",
       "      <td>2019-01-01 07:03:50.010</td>\n",
       "      <td>11.186</td>\n",
       "      <td>-69.751</td>\n",
       "      <td>15.5</td>\n",
       "      <td>2.9</td>\n",
       "    </tr>\n",
       "  </tbody>\n",
       "</table>\n",
       "</div>"
      ],
      "text/plain": [
       "            Tiempo Origen  Latitud  Longitud  Profundidad  Magnitud\n",
       "0 2019-01-01 03:44:51.039   10.252   -68.170         12.9       2.0\n",
       "1 2019-01-01 03:50:20.019   10.243   -68.146          8.0       2.3\n",
       "2 2019-01-01 04:20:28.060   10.220   -68.104          2.4       2.0\n",
       "3 2019-01-01 06:42:24.069   10.199   -68.119         17.3       3.0\n",
       "4 2019-01-01 07:03:50.010   11.186   -69.751         15.5       2.9"
      ]
     },
     "execution_count": 16,
     "metadata": {},
     "output_type": "execute_result"
    }
   ],
   "source": [
    "# Se usa la función conver2date para convertir los string a formato tiempo\n",
    "def convert2date(row):\n",
    "    return(datetime(row[0],row[1], row[2], row[3], row[4], row[5], row[6]).\n",
    "                               strftime('%Y-%m-%d %H:%M:%S.%f'))\n",
    "\n",
    "#columnas que se usarn para crear la columna tiempo origen\n",
    "row=['year','month','day','hour','min','sec','microsec']\n",
    "\n",
    "#usamos el metodo apply para aplicar la función a cada fila del dataframe datos\n",
    "datos['Tiempo Origen'] = (datos[row].apply(convert2date,axis=1)\n",
    "                            .astype(\"datetime64[ms]\"))\n",
    "\n",
    "#Se crea un dataframe con la información que se necesita \n",
    "#(tiempo, lat, lon, depth, mag) luego se cambian los nombres\n",
    "df=(datos[['Tiempo Origen', 'lat','lon','depth','mag']]\n",
    "        .rename(columns={'lat':'Latitud',\n",
    "                         'lon':'Longitud',\n",
    "                         'depth':'Profundidad', \n",
    "                         'mag':'Magnitud'}))\n",
    "\n",
    "df.head()"
   ]
  },
  {
   "cell_type": "code",
   "execution_count": 23,
   "metadata": {},
   "outputs": [
    {
     "data": {
      "image/png": "[encoded data removed]",
      "text/plain": [
       "<Figure size 720x360 with 1 Axes>"
      ]
     },
     "metadata": {
      "needs_background": "light"
     },
     "output_type": "display_data"
    }
   ],
   "source": [
    "import matplotlib.dates as mdates\n",
    "\n",
    "fig, ax = plt.subplots(1,1, figsize=(10,5))\n",
    "\n",
    "#bins para el histograma\n",
    "bins=np.arange('2019-01-01', '2020-01-31', dtype='datetime64[M]')\n",
    "\n",
    "histo=ax.hist(datos['Tiempo Origen'], bins=bins, \n",
    "              rwidth=1.0 ,color='steelblue', edgecolor='k')\n",
    "\n",
    "for n, h in enumerate(histo[0]):\n",
    "    if histo[0][n]>0:\n",
    "        ax.text(histo[1][n]+16,histo[0][n]-30.0,str(int(histo[0][n])),\n",
    "                ha='center',fontsize=16, color='white', fontweight='bold')\n",
    "\n",
    "#Se da formato al grafico eliminando lineas superior derecha e izquierda\n",
    "ax.spines['top'].set_visible(False)\n",
    "ax.spines['right'].set_visible(False)\n",
    "ax.spines['left'].set_visible(False)\n",
    "ax.yaxis.grid(True)\n",
    "\n",
    "ax.xaxis.set_major_formatter(mdates.DateFormatter(\"%b\"))\n",
    "for label in ax.get_xticklabels(which='major'):\n",
    "    label.set(rotation=45, horizontalalignment='right')\n",
    "\n",
    "ax.tick_params(labelsize=13, labelright=True)\n",
    "ax.set_ylabel('N° de sismos')\n",
    "ax.set_title('Sismicidad 2019',fontsize=14,weight='bold');\n",
    "ax.set_xticks(np.arange('2019-01-01', '2020-01-31', dtype='datetime64[M]'))\n",
    "\n",
    "\n",
    "fig.savefig('sismicida_mensual.png')"
   ]
  },
  {
   "cell_type": "markdown",
   "metadata": {},
   "source": [
    "# Barplot con número de sismos por semana\n"
   ]
  },
  {
   "cell_type": "code",
   "execution_count": 24,
   "metadata": {},
   "outputs": [
    {
     "data": {
      "text/html": [
       "<div>\n",
       "<style scoped>\n",
       "    .dataframe tbody tr th:only-of-type {\n",
       "        vertical-align: middle;\n",
       "    }\n",
       "\n",
       "    .dataframe tbody tr th {\n",
       "        vertical-align: top;\n",
       "    }\n",
       "\n",
       "    .dataframe thead th {\n",
       "        text-align: right;\n",
       "    }\n",
       "</style>\n",
       "<table border=\"1\" class=\"dataframe\">\n",
       "  <thead>\n",
       "    <tr style=\"text-align: right;\">\n",
       "      <th></th>\n",
       "      <th>week</th>\n",
       "      <th>numero</th>\n",
       "    </tr>\n",
       "  </thead>\n",
       "  <tbody>\n",
       "    <tr>\n",
       "      <th>0</th>\n",
       "      <td>1</td>\n",
       "      <td>115</td>\n",
       "    </tr>\n",
       "    <tr>\n",
       "      <th>1</th>\n",
       "      <td>2</td>\n",
       "      <td>146</td>\n",
       "    </tr>\n",
       "    <tr>\n",
       "      <th>2</th>\n",
       "      <td>3</td>\n",
       "      <td>106</td>\n",
       "    </tr>\n",
       "    <tr>\n",
       "      <th>3</th>\n",
       "      <td>4</td>\n",
       "      <td>98</td>\n",
       "    </tr>\n",
       "    <tr>\n",
       "      <th>4</th>\n",
       "      <td>5</td>\n",
       "      <td>73</td>\n",
       "    </tr>\n",
       "  </tbody>\n",
       "</table>\n",
       "</div>"
      ],
      "text/plain": [
       "   week  numero\n",
       "0     1     115\n",
       "1     2     146\n",
       "2     3     106\n",
       "3     4      98\n",
       "4     5      73"
      ]
     },
     "execution_count": 24,
     "metadata": {},
     "output_type": "execute_result"
    }
   ],
   "source": [
    "df_week=pd.DataFrame({'numero':df['Tiempo Origen']\n",
    "                      .groupby(df[\"Tiempo Origen\"].dt.isocalendar().week).count()})\n",
    "df_week.reset_index(inplace=True)\n",
    "df_week.head()"
   ]
  },
  {
   "cell_type": "code",
   "execution_count": 25,
   "metadata": {},
   "outputs": [],
   "source": [
    "def format_grafico(axn,labelx,labely):\n",
    "    #Funcion para dar algunos formatos al grafico\n",
    "    #Entrada: axes (axn),etiqueta eje x (labelx), etiqueta eje y (labely)\n",
    "    axn.spines['top'].set_visible(False)\n",
    "    axn.spines['right'].set_visible(False)\n",
    "    axn.spines['left'].set_visible(False)\n",
    "    axn.tick_params(labelsize=10, labelright=True)\n",
    "    axn.yaxis.grid(True)\n",
    "    \n",
    "    axn.set_xlabel(labelx, fontsize=16, fontweight='bold')\n",
    "    axn.set_ylabel(labely, fontsize=16, fontweight='bold')"
   ]
  },
  {
   "cell_type": "code",
   "execution_count": 27,
   "metadata": {},
   "outputs": [
    {
     "data": {
      "image/png": "[encoded data removed]",
      "text/plain": [
       "<Figure size 720x504 with 1 Axes>"
      ]
     },
     "metadata": {
      "needs_background": "light"
     },
     "output_type": "display_data"
    }
   ],
   "source": [
    "fig, ax=plt.subplots(1,1,figsize=(10,7))\n",
    "\n",
    "bars=ax.bar(df_week['week'],df_week['numero'],edgecolor='k',color='steelblue',width=0.6)\n",
    "#bars2=ax.bar(df_week['week']+0.25,df_week['acumulado'],edgecolor='k',color='gray',width=0.5,alpha=0.5)\n",
    "for bar in bars:\n",
    "    ax.text(bar.get_x()+bar.get_width()/2, bar.get_height()+2, str(int(bar.get_height())),ha='center', color='k', \n",
    "            fontsize=8)\n",
    "ax.set_xticks(np.arange(1,54,2))\n",
    "ax.set_ylim(0,200)\n",
    "ax.set_title('No de sismos por semana')\n",
    "format_grafico(ax,'Semana','Número de sismos')\n",
    "\n",
    "plt.savefig('sismos_semanales.png', dpi=120)"
   ]
  },
  {
   "cell_type": "code",
   "execution_count": null,
   "metadata": {},
   "outputs": [],
   "source": []
  }
 ],
 "metadata": {
  "kernelspec": {
   "display_name": "Python 3",
   "language": "python",
   "name": "python3"
  },
  "language_info": {
   "codemirror_mode": {
    "name": "ipython",
    "version": 3
   },
   "file_extension": ".py",
   "mimetype": "text/x-python",
   "name": "python",
   "nbconvert_exporter": "python",
   "pygments_lexer": "ipython3",
   "version": "3.7.8"
  }
 },
 "nbformat": 4,
 "nbformat_minor": 4
}
